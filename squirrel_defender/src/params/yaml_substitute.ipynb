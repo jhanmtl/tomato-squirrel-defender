{
 "cells": [
  {
   "cell_type": "code",
   "execution_count": 61,
   "metadata": {},
   "outputs": [],
   "source": [
    "from src.params.utils import yaml_parser\n",
    "import yaml\n",
    "import pandas as pd"
   ]
  },
  {
   "cell_type": "code",
   "execution_count": 68,
   "metadata": {},
   "outputs": [
    {
     "name": "stdout",
     "output_type": "stream",
     "text": [
      "nested_case:\n",
      "  subkey1: abc\n",
      "  subkey2: $global_var$\n",
      "  subkey3:\n",
      "    sub_subkey1: abc\n",
      "    sub_subkey2: def\n",
      "    sub_subkey3: $global_var$\n",
      "    sub_subkey4:\n",
      "      sub_sub_subkey1: abc\n",
      "      sub_sub_subkey2: $global_var$\n",
      "\n"
     ]
    }
   ],
   "source": [
    "raw_dict=yaml_parser(\"tests.yaml\")\n",
    "print(yaml.dump(raw_dict,default_flow_style=False,sort_keys=False))"
   ]
  },
  {
   "cell_type": "code",
   "execution_count": 69,
   "metadata": {},
   "outputs": [
    {
     "data": {
      "text/plain": [
       "{'nested_case.subkey1': 'abc',\n",
       " 'nested_case.subkey2': '$global_var$',\n",
       " 'nested_case.subkey3.sub_subkey1': 'abc',\n",
       " 'nested_case.subkey3.sub_subkey2': 'def',\n",
       " 'nested_case.subkey3.sub_subkey3': '$global_var$',\n",
       " 'nested_case.subkey3.sub_subkey4.sub_sub_subkey1': 'abc',\n",
       " 'nested_case.subkey3.sub_subkey4.sub_sub_subkey2': '$global_var$'}"
      ]
     },
     "execution_count": 69,
     "metadata": {},
     "output_type": "execute_result"
    }
   ],
   "source": [
    "pd.json_normalize(raw_dict,sep=\".\").to_dict(orient='records')[0]"
   ]
  },
  {
   "cell_type": "code",
   "execution_count": 78,
   "metadata": {},
   "outputs": [
    {
     "data": {
      "text/plain": [
       "{'subkey3': {'sub_subkey1': 'hi'}, 'nested_case': {'subkey3': 'hi'}}"
      ]
     },
     "execution_count": 78,
     "metadata": {},
     "output_type": "execute_result"
    }
   ],
   "source": [
    "keyparts=['nested_case','subkey3','sub_subkey1']\n",
    "val='hi'\n",
    "\n",
    "d={}\n",
    "n={}\n",
    "\n",
    "for k in keyparts:\n",
    "    n[k]={}\n",
    "    d=d\n"
   ]
  },
  {
   "cell_type": "code",
   "execution_count": 86,
   "metadata": {},
   "outputs": [
    {
     "name": "stdout",
     "output_type": "stream",
     "text": [
      "{}\n",
      "{}\n"
     ]
    }
   ],
   "source": [
    "num_list = [1, 2, 3, 4]\n",
    "new_dict = current= {}\n",
    "current = {}\n",
    "for name in num_list:\n",
    "    current[name] = {}\n",
    "    current = current[name]\n",
    "print(current)\n",
    "print(new_dict)"
   ]
  },
  {
   "cell_type": "code",
   "execution_count": 81,
   "metadata": {},
   "outputs": [
    {
     "data": {
      "text/plain": [
       "{}"
      ]
     },
     "execution_count": 81,
     "metadata": {},
     "output_type": "execute_result"
    }
   ],
   "source": [
    "current"
   ]
  },
  {
   "cell_type": "code",
   "execution_count": 60,
   "metadata": {},
   "outputs": [
    {
     "name": "stdout",
     "output_type": "stream",
     "text": [
      "['nested_case', 'subkey1', 'subkey2', 'subkey3', 'sub_subkey1', 'sub_subkey2', 'sub_subkey3', 'sub_subkey4', 'sub_sub_subkey1', 'sub_sub_subkey2', 'heycase', 'k']\n"
     ]
    }
   ],
   "source": [
    "def retreive_nested_values(possible_input):\n",
    "    if isinstance(possible_input,dict):\n",
    "        for k,v in possible_input.items():\n",
    "            yield k\n",
    "            yield from retreive_nested_values(v)\n",
    "\n",
    "print(list(retreive_nested_values(raw_dict)))"
   ]
  },
  {
   "cell_type": "code",
   "execution_count": 42,
   "metadata": {},
   "outputs": [
    {
     "ename": "KeyError",
     "evalue": "2",
     "output_type": "error",
     "traceback": [
      "\u001b[0;31m---------------------------------------------------------------------------\u001b[0m",
      "\u001b[0;31mKeyError\u001b[0m                                  Traceback (most recent call last)",
      "Cell \u001b[0;32mIn[42], line 1\u001b[0m\n\u001b[0;32m----> 1\u001b[0m raw_dict[\u001b[39m'\u001b[39;49m\u001b[39mnested_case\u001b[39;49m\u001b[39m'\u001b[39;49m][\u001b[39m'\u001b[39;49m\u001b[39msubkey3\u001b[39;49m\u001b[39m'\u001b[39;49m][\u001b[39m'\u001b[39;49m\u001b[39msub_subkey4\u001b[39;49m\u001b[39m'\u001b[39;49m][\u001b[39m2\u001b[39;49m][\u001b[39m'\u001b[39m\u001b[39msub_sub_subkey1\u001b[39m\u001b[39m'\u001b[39m]\n",
      "\u001b[0;31mKeyError\u001b[0m: 2"
     ]
    }
   ],
   "source": [
    "raw_dict['nested_case']['subkey3']['sub_subkey4'][2]['sub_sub_subkey1']"
   ]
  },
  {
   "cell_type": "code",
   "execution_count": 28,
   "metadata": {},
   "outputs": [
    {
     "name": "stdout",
     "output_type": "stream",
     "text": [
      "[{'nested_case': ['subkey1', 'subkey2', {'subkey3': ['sub_subkey1', 'sub_subkey2', 'sub_subkey3', 'sub_subkey4']}]}]\n"
     ]
    }
   ],
   "source": [
    "def retreive_nested_keys(possible_input):\n",
    "    if isinstance(possible_input,dict):\n",
    "        for k,v in possible_input.items():\n",
    "            if isinstance(v,dict):\n",
    "                yield {k:list(retreive_nested_keys(v))}\n",
    "            else:\n",
    "                yield k\n",
    "\n",
    "    elif isinstance(possible_input,list):\n",
    "        for item in possible_input:\n",
    "                yield from retreive_nested_keys(item)\n",
    "    else:\n",
    "        yield possible_input\n",
    "\n",
    "print(list(retreive_nested_keys(raw_dict)))"
   ]
  },
  {
   "cell_type": "code",
   "execution_count": 33,
   "metadata": {},
   "outputs": [
    {
     "data": {
      "text/plain": [
       "{'nested_case': ['subkey1',\n",
       "  'subkey2',\n",
       "  {'subkey3': ['sub_subkey1', 'sub_subkey2', 'sub_subkey3', 'sub_subkey4']}]}"
      ]
     },
     "execution_count": 33,
     "metadata": {},
     "output_type": "execute_result"
    }
   ],
   "source": [
    "list(retreive_nested_keys(raw_dict))[0]"
   ]
  },
  {
   "cell_type": "code",
   "execution_count": 57,
   "metadata": {},
   "outputs": [],
   "source": [
    "def generator2():\n",
    "    for i in range(10):\n",
    "        yield i\n",
    "\n",
    "def generator3():\n",
    "    for j in range(10, 20):\n",
    "        yield j\n",
    "\n",
    "def generator():\n",
    "    yield from generator2()\n",
    "    yield from generator3()"
   ]
  },
  {
   "cell_type": "code",
   "execution_count": 58,
   "metadata": {},
   "outputs": [
    {
     "data": {
      "text/plain": [
       "[0, 1, 2, 3, 4, 5, 6, 7, 8, 9, 10, 11, 12, 13, 14, 15, 16, 17, 18, 19]"
      ]
     },
     "execution_count": 58,
     "metadata": {},
     "output_type": "execute_result"
    }
   ],
   "source": [
    "list(generator())"
   ]
  },
  {
   "cell_type": "code",
   "execution_count": null,
   "metadata": {},
   "outputs": [],
   "source": []
  }
 ],
 "metadata": {
  "kernelspec": {
   "display_name": "base",
   "language": "python",
   "name": "python3"
  },
  "language_info": {
   "codemirror_mode": {
    "name": "ipython",
    "version": 3
   },
   "file_extension": ".py",
   "mimetype": "text/x-python",
   "name": "python",
   "nbconvert_exporter": "python",
   "pygments_lexer": "ipython3",
   "version": "3.10.9"
  },
  "orig_nbformat": 4,
  "vscode": {
   "interpreter": {
    "hash": "d4d1e4263499bec80672ea0156c357c1ee493ec2b1c70f0acce89fc37c4a6abe"
   }
  }
 },
 "nbformat": 4,
 "nbformat_minor": 2
}
